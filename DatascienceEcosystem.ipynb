{
 "cells": [
  {
   "cell_type": "markdown",
   "id": "280694f7-39bd-4e3d-8af4-9fcaf30194f6",
   "metadata": {},
   "source": [
    "# Data Science Tools and Ecosystem"
   ]
  },
  {
   "cell_type": "markdown",
   "id": "f86bbad5-4633-4a71-8ee1-8b7d592893ce",
   "metadata": {},
   "source": [
    "In this notebook, Data Science Tools and Ecosystem are summarized."
   ]
  },
  {
   "cell_type": "markdown",
   "id": "80ccd5ca-ba54-4d7d-9bae-eab0f477e9e7",
   "metadata": {},
   "source": [
    "**Objectives:**\n",
    "\n",
    "+ Create a Jupyter Notebook with markdown and code cells\n",
    "+ List examples of languages, libraries and tools used in Data Science\n",
    "+ Demonstrate proficiency in Data Science toolkit knowledge\n"
   ]
  },
  {
   "cell_type": "markdown",
   "id": "947018ba-af8d-4560-ab6a-1680ed1d4f13",
   "metadata": {},
   "source": [
    "Some of the popular languages that Data Scientists use are:"
   ]
  },
  {
   "cell_type": "markdown",
   "id": "6379e657-a17a-4e63-83bb-3be3066409f6",
   "metadata": {},
   "source": [
    "* python\n",
    "* R\n",
    "* SQL"
   ]
  },
  {
   "cell_type": "markdown",
   "id": "3c202199-f30a-409a-bbdb-b9bfe63f65e0",
   "metadata": {},
   "source": [
    "Some of the commonly used libraries used by Data Scientists include:"
   ]
  },
  {
   "cell_type": "markdown",
   "id": "439775b3-8da8-4b4a-a349-a2f1033224f2",
   "metadata": {},
   "source": [
    "+ Numpy\n",
    "+ tensorflow\n",
    "+ caret"
   ]
  },
  {
   "cell_type": "markdown",
   "id": "724c3a5d-cb01-4a15-b177-7d50eb01bd22",
   "metadata": {},
   "source": [
    "|Data science Tools|\n",
    "|------------------|\n",
    "|Apache Spark|\n",
    "|matplotlib|\n",
    "|knime|\n",
    "|Apache HAdoop|\n"
   ]
  },
  {
   "cell_type": "markdown",
   "id": "f640c822-c418-43c2-bbce-9814233d625f",
   "metadata": {},
   "source": [
    "### Below are a few examples of evaluating arithmetic expressions in Python"
   ]
  },
  {
   "cell_type": "code",
   "execution_count": 2,
   "id": "a6f257aa-fc47-490b-9944-1e3061b285f0",
   "metadata": {},
   "outputs": [
    {
     "data": {
      "text/plain": [
       "17"
      ]
     },
     "execution_count": 2,
     "metadata": {},
     "output_type": "execute_result"
    }
   ],
   "source": [
    "(3*4)+5"
   ]
  },
  {
   "cell_type": "code",
   "execution_count": 10,
   "id": "56fda4c2-639f-4044-8d0f-d89d4be93aa7",
   "metadata": {},
   "outputs": [
    {
     "data": {
      "text/plain": [
       "3.3333333333333335"
      ]
     },
     "execution_count": 10,
     "metadata": {},
     "output_type": "execute_result"
    }
   ],
   "source": [
    "200/60\n",
    "# This will convert 200 minutes to hours by diving by 60"
   ]
  },
  {
   "cell_type": "markdown",
   "id": "808285a4-21d3-4c8c-9a37-4f86f53cd549",
   "metadata": {},
   "source": [
    "## Author\n",
    " Nadia Hakkou"
   ]
  },
  {
   "cell_type": "code",
   "execution_count": null,
   "id": "20427d19-69da-434f-919c-368d3e0863dc",
   "metadata": {},
   "outputs": [],
   "source": []
  }
 ],
 "metadata": {
  "kernelspec": {
   "display_name": "Python 3 (ipykernel)",
   "language": "python",
   "name": "python3"
  },
  "language_info": {
   "codemirror_mode": {
    "name": "ipython",
    "version": 3
   },
   "file_extension": ".py",
   "mimetype": "text/x-python",
   "name": "python",
   "nbconvert_exporter": "python",
   "pygments_lexer": "ipython3",
   "version": "3.12.5"
  }
 },
 "nbformat": 4,
 "nbformat_minor": 5
}
